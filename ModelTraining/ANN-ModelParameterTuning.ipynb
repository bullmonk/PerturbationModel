{
 "cells": [
  {
   "cell_type": "code",
   "execution_count": 1,
   "id": "8955724a-c351-462f-8510-7fc38f7703c7",
   "metadata": {},
   "outputs": [],
   "source": [
    "# Imports\n",
    "\n",
    "import os\n",
    "import pandas as pd\n",
    "import numpy as np\n",
    "import copy\n",
    "\n",
    "import torch\n",
    "from torch import nn, optim\n",
    "from torch.utils.data import DataLoader\n",
    "from torchvision import datasets, transforms\n",
    "\n",
    "import matplotlib.pyplot as plt\n",
    "from sklearn import preprocessing\n",
    "from sklearn.pipeline import Pipeline\n",
    "from sklearn.preprocessing import StandardScaler\n",
    "from sklearn.model_selection import train_test_split, validation_curve, GridSearchCV, learning_curve\n",
    "from sklearn.metrics import mean_squared_error,r2_score\n",
    "from skorch import NeuralNetRegressor\n",
    "import seaborn as sns"
   ]
  },
  {
   "cell_type": "code",
   "execution_count": 2,
   "id": "29959f17-3f1a-4a95-81cf-9b0ffe0a7b15",
   "metadata": {},
   "outputs": [],
   "source": [
    "# Load data\n",
    "\n",
    "# load\n",
    "df = pd.read_csv(\"dataf1000.csv\")\n",
    "df.replace([np.inf, -np.inf], np.nan, inplace=True)\n",
    "df=df.dropna()\n",
    "del df['time']\n",
    "\n",
    "# get input variables\n",
    "X = df[df.columns[0:-3]]\n",
    "\n",
    "# get output variable\n",
    "density = df['log_density'] # log based, use 'density' if want density value instead of logged.\n",
    "perturbation = df['perturbation']\n",
    "\n",
    "# transform\n",
    "xscaler = preprocessing.MinMaxScaler()\n",
    "names = X.columns\n",
    "d = xscaler.fit_transform(X)\n",
    "X = pd.DataFrame(d, columns=names)\n",
    "\n",
    "yscaler = preprocessing.MinMaxScaler()\n",
    "d = yscaler.fit_transform(perturbation.values.reshape(-1, 1)) # change y accordingly\n",
    "y = pd.DataFrame(d, columns=['perturbation'])\n",
    "\n",
    "X_train, X_test, y_train, y_test = train_test_split(X, y, test_size = 0.4, random_state = 628)\n",
    "# Convert to 2D PyTorch tensors\n",
    "X_train = torch.tensor(X_train.values, dtype=torch.float32)\n",
    "y_train = torch.tensor(y_train.values, dtype=torch.float32).reshape(-1, 1)\n",
    "X_test = torch.tensor(X_test.values, dtype=torch.float32)\n",
    "y_test = torch.tensor(y_test.values, dtype=torch.float32).reshape(-1, 1)"
   ]
  },
  {
   "cell_type": "code",
   "execution_count": null,
   "id": "f49d9e29-c738-4f4b-95e8-8ece201f2628",
   "metadata": {},
   "outputs": [],
   "source": [
    "# Optional, skip for multiple run\n",
    "\n",
    "dataset = df.copy()\n",
    "_ = sns.pairplot(\n",
    "    dataset[['mlat', 'cos', 'sin', 'rho', 'ae_index', 'sym_h','density']],\n",
    "    kind='reg', diag_kind='kde', plot_kws={'scatter_kws': {'alpha': 0.1}})"
   ]
  },
  {
   "cell_type": "code",
   "execution_count": 3,
   "id": "38a89f93-3b71-462f-8284-793906642332",
   "metadata": {},
   "outputs": [
    {
     "name": "stdout",
     "output_type": "stream",
     "text": [
      "Using cuda device\n"
     ]
    }
   ],
   "source": [
    "# Check Device\n",
    "\n",
    "device = (\n",
    "    \"cuda\"\n",
    "    if torch.cuda.is_available()\n",
    "    else \"mps\"\n",
    "    if torch.backends.mps.is_available()\n",
    "    else \"cpu\"\n",
    ")\n",
    "print(f\"Using {device} device\")\n",
    "\n",
    "# define neural network model\n",
    "model = nn.Sequential(\n",
    "    nn.Linear(126, 10),\n",
    "    nn.ReLU(),\n",
    "    nn.Linear(10, 20),\n",
    "    nn.ReLU(),\n",
    "    nn.Linear(20, 1)\n",
    ")\n",
    "\n",
    "# create skorch wrapper for a regressor.\n",
    "netRegressor = NeuralNetRegressor(\n",
    "    module=model,\n",
    "    criterion=nn.MSELoss,\n",
    "    optimizer=optim.Adam,\n",
    "    max_epochs=32,\n",
    "    batch_size=128,\n",
    "    device=device\n",
    ")\n",
    "\n",
    "# Use GridSearchCV to perform hyperparameter tuning\n",
    "param_grid = {\n",
    "    'batch_size': [32, 64, 128],\n",
    "    'criterion': [nn.MSELoss]\n",
    "}\n",
    "\n",
    "# uncomment below to parameter tuning\n",
    "\n",
    "# grid_search = GridSearchCV(estimator=net, param_grid=param_grid, cv=5, scoring='r2', n_jobs=-2)\n",
    "# print(\"Best parameters found:\", grid_search.best_params_)\n",
    "# print(\"Best score:\", grid_search.best_score_)"
   ]
  },
  {
   "cell_type": "code",
   "execution_count": 4,
   "id": "0f2ea3b3-a122-40b7-a153-77db4d3246b3",
   "metadata": {},
   "outputs": [
    {
     "name": "stdout",
     "output_type": "stream",
     "text": [
      "  epoch    train_loss    valid_loss     dur\n",
      "-------  ------------  ------------  ------\n",
      "      1        \u001b[36m0.0006\u001b[0m        \u001b[32m0.0001\u001b[0m  0.8975\n",
      "      2        \u001b[36m0.0001\u001b[0m        0.0001  0.3652\n",
      "      3        \u001b[36m0.0001\u001b[0m        \u001b[32m0.0001\u001b[0m  0.3642\n",
      "      4        \u001b[36m0.0001\u001b[0m        0.0001  0.3634\n",
      "      5        \u001b[36m0.0001\u001b[0m        0.0001  0.3650\n",
      "      6        \u001b[36m0.0001\u001b[0m        0.0001  0.3640\n",
      "      7        0.0001        \u001b[32m0.0001\u001b[0m  0.3628\n",
      "      8        \u001b[36m0.0001\u001b[0m        0.0001  0.3636\n",
      "      9        \u001b[36m0.0001\u001b[0m        0.0001  0.3662\n",
      "     10        \u001b[36m0.0001\u001b[0m        0.0001  0.3640\n",
      "     11        0.0001        0.0001  0.3651\n",
      "     12        \u001b[36m0.0001\u001b[0m        0.0001  0.3643\n",
      "     13        0.0001        0.0001  0.3642\n",
      "     14        0.0001        0.0001  0.3637\n",
      "     15        0.0001        0.0001  0.3660\n",
      "     16        0.0001        0.0001  0.3648\n",
      "     17        0.0001        0.0001  0.3626\n",
      "     18        0.0001        0.0001  0.3637\n",
      "     19        0.0001        0.0001  0.3656\n",
      "     20        0.0001        0.0001  0.3660\n",
      "     21        0.0001        0.0001  0.3636\n",
      "     22        0.0001        0.0001  0.3633\n",
      "     23        0.0001        0.0001  0.3662\n",
      "     24        0.0001        0.0001  0.3621\n",
      "     25        0.0001        0.0001  0.3662\n",
      "     26        0.0001        0.0001  0.3631\n",
      "     27        0.0001        0.0001  0.3635\n",
      "     28        0.0001        0.0001  0.3644\n",
      "     29        0.0001        0.0001  0.3650\n",
      "     30        0.0001        0.0001  0.3649\n",
      "     31        0.0001        0.0001  0.3639\n",
      "     32        0.0001        0.0001  0.3654\n"
     ]
    }
   ],
   "source": [
    "# Save prediction result\n",
    "netRegressor.fit(X_train, y_train)\n",
    "# print(f'model score on testing data: {netRegressor.score(X_test, y_test)}')\n",
    "y_train_out = netRegressor.predict(X_train)\n",
    "y_out = netRegressor.predict(X_test)"
   ]
  },
  {
   "cell_type": "code",
   "execution_count": 7,
   "id": "50370771-a264-4183-858f-0a2e14eef88b",
   "metadata": {},
   "outputs": [
    {
     "name": "stdout",
     "output_type": "stream",
     "text": [
      "0.0017509295749630338\n"
     ]
    }
   ],
   "source": [
    "print(r2_score(y_test, y_out))"
   ]
  },
  {
   "cell_type": "code",
   "execution_count": null,
   "id": "968f7945-0afe-4316-a3ea-eba3ce79b48b",
   "metadata": {},
   "outputs": [],
   "source": [
    "pd.DataFrame(y_train).describe()"
   ]
  },
  {
   "cell_type": "code",
   "execution_count": null,
   "id": "4802a907-823c-4e48-b4b5-cb304b46ada2",
   "metadata": {},
   "outputs": [],
   "source": [
    "pd.DataFrame(y_train_out).describe()"
   ]
  },
  {
   "cell_type": "code",
   "execution_count": null,
   "id": "ec54ac21-ad7b-4a6d-96a7-ff045fca2903",
   "metadata": {},
   "outputs": [],
   "source": [
    "pd.DataFrame(y_test).describe()"
   ]
  },
  {
   "cell_type": "code",
   "execution_count": null,
   "id": "e19451bc-0e83-4ab2-afc8-438cd9d2af88",
   "metadata": {},
   "outputs": [],
   "source": [
    "dny.reshape() = yscaler.inverse_transform(y_out).flatten()\n",
    "\n",
    "pd.DataFrame(dny).describe()"
   ]
  },
  {
   "cell_type": "code",
   "execution_count": 8,
   "id": "241b9456-1206-4964-b4d6-66f732870a9e",
   "metadata": {},
   "outputs": [
    {
     "data": {
      "image/png": "[encoded data removed]",
      "text/plain": [
       "<Figure size 1000x1000 with 1 Axes>"
      ]
     },
     "metadata": {},
     "output_type": "display_data"
    }
   ],
   "source": [
    "plt.figure(figsize=(10,10))\n",
    "plt.scatter(y_test.numpy(), y_out, c='crimson')\n",
    "# plt.yscale('log')\n",
    "# plt.xscale('log')\n",
    "\n",
    "# p1 = max(max(dny), max(y_test.numpy()))\n",
    "# p2 = min(min(dny), min(y_test.numpy()))\n",
    "# plt.plot([p1, p2], [p1, p2], 'b-')\n",
    "plt.xlabel('True Values', fontsize=15)\n",
    "plt.ylabel('Predictions', fontsize=15)\n",
    "plt.axis('equal')\n",
    "plt.show()"
   ]
  },
  {
   "cell_type": "code",
   "execution_count": null,
   "id": "eb45dc4d-30cd-4ee8-bec3-fbc3c8ffcc81",
   "metadata": {},
   "outputs": [],
   "source": [
    "# full data run\n",
    "\n",
    "full_df = pd.read_csv(\"den_data.csv\")\n",
    "full_df.replace([np.inf, -np.inf], np.nan, inplace=True)\n",
    "full_df=full_df.dropna()\n",
    "\n",
    "X = full_df[full_df.columns[0:-1]]  #  X will hold all features\n",
    "#y = df['theta5']/np.pi # y will hold target/labels\n",
    "y = np.log10(full_df['density'])\n",
    "scaler = preprocessing.MinMaxScaler()\n",
    "names = X.columns\n",
    "d = scaler.fit_transform(X)\n",
    "X = pd.DataFrame(d, columns=names)\n",
    "\n",
    "X_train, X_test, y_train, y_test = train_test_split(X, y, test_size = 0, random_state = 628)\n",
    "# Convert to 2D PyTorch tensors\n",
    "X_train = torch.tensor(X_train.values, dtype=torch.float32)\n",
    "y_train = torch.tensor(y_train.values, dtype=torch.float32).reshape(-1, 1)\n",
    "X_test = torch.tensor(X_test.values, dtype=torch.float32)\n",
    "y_test = torch.tensor(y_test.values, dtype=torch.float32).reshape(-1, 1)\n",
    "\n",
    "X_train.describe()"
   ]
  },
  {
   "cell_type": "code",
   "execution_count": null,
   "id": "1d33d522-acda-43a0-8180-846cdfe4789a",
   "metadata": {},
   "outputs": [],
   "source": []
  }
 ],
 "metadata": {
  "kernelspec": {
   "display_name": "Python 3 (ipykernel)",
   "language": "python",
   "name": "python3"
  },
  "language_info": {
   "codemirror_mode": {
    "name": "ipython",
    "version": 3
   },
   "file_extension": ".py",
   "mimetype": "text/x-python",
   "name": "python",
   "nbconvert_exporter": "python",
   "pygments_lexer": "ipython3",
   "version": "3.11.8"
  }
 },
 "nbformat": 4,
 "nbformat_minor": 5
}
