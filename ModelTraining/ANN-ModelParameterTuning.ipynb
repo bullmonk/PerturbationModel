{
 "cells": [
  {
   "cell_type": "code",
   "execution_count": null,
   "id": "8955724a-c351-462f-8510-7fc38f7703c7",
   "metadata": {},
   "outputs": [],
   "source": [
    "# Imports\n",
    "\n",
    "import os\n",
    "import pandas as pd\n",
    "import numpy as np\n",
    "import copy\n",
    "\n",
    "import torch\n",
    "from torch import nn, optim\n",
    "from torch.utils.data import DataLoader\n",
    "from torchvision import datasets, transforms\n",
    "\n",
    "import matplotlib.pyplot as plt\n",
    "from sklearn import preprocessing\n",
    "from sklearn.pipeline import Pipeline\n",
    "from sklearn.preprocessing import StandardScaler\n",
    "from sklearn.model_selection import train_test_split, validation_curve, GridSearchCV, learning_curve\n",
    "from sklearn.metrics import mean_squared_error,r2_score\n",
    "from sklearn.inspection import permutation_importance\n",
    "from skorch import NeuralNetRegressor\n",
    "import seaborn as sns"
   ]
  },
  {
   "cell_type": "code",
   "execution_count": null,
   "id": "29959f17-3f1a-4a95-81cf-9b0ffe0a7b15",
   "metadata": {},
   "outputs": [],
   "source": [
    "# Load data\n",
    "\n",
    "# load\n",
    "df = pd.read_csv(\"../data/satellite_100.csv\")\n",
    "df.replace([np.inf, -np.inf], np.nan, inplace=True)\n",
    "df=df.dropna()\n",
    "\n",
    "# get input variables\n",
    "X = df[df.columns[0:-4]]\n",
    "\n",
    "# get output variable\n",
    "density = df['density_log10'] # log based, use 'density' if want density value instead of logged.\n",
    "perturbation = df['perturbation']\n",
    "norm_perturbation = df['perturbation_norm']\n",
    "\n",
    "# transform\n",
    "xscaler = preprocessing.MinMaxScaler()\n",
    "names = X.columns\n",
    "d = xscaler.fit_transform(X)\n",
    "X = pd.DataFrame(d, columns=names)\n",
    "\n",
    "yscaler = preprocessing.MinMaxScaler()\n",
    "d = yscaler.fit_transform(perturbation.values.reshape(-1, 1))\n",
    "y = pd.DataFrame(d, columns=['norm_perturbation'])\n",
    "\n",
    "X_train, X_test, y_train, y_test = train_test_split(X, y, test_size = 0.4, random_state = 628)\n",
    "# Convert to 2D PyTorch tensors\n",
    "X_train = torch.tensor(X_train.values, dtype=torch.float32)\n",
    "y_train = torch.tensor(y_train.values, dtype=torch.float32).reshape(-1, 1)\n",
    "X_test = torch.tensor(X_test.values, dtype=torch.float32)\n",
    "y_test = torch.tensor(y_test.values, dtype=torch.float32).reshape(-1, 1)"
   ]
  },
  {
   "cell_type": "code",
   "execution_count": null,
   "id": "f49d9e29-c738-4f4b-95e8-8ece201f2628",
   "metadata": {},
   "outputs": [],
   "source": [
    "# Optional, skip for multiple run\n",
    "\n",
    "dataset = df.copy()\n",
    "_ = sns.pairplot(\n",
    "    dataset[['mlat', 'cos', 'sin', 'rho', 'ae_index', 'sym_h','density']],\n",
    "    kind='reg', diag_kind='kde', plot_kws={'scatter_kws': {'alpha': 0.1}})"
   ]
  },
  {
   "cell_type": "code",
   "execution_count": null,
   "id": "38a89f93-3b71-462f-8284-793906642332",
   "metadata": {},
   "outputs": [],
   "source": [
    "# Check Device\n",
    "\n",
    "device = (\n",
    "    \"cuda\"\n",
    "    if torch.cuda.is_available()\n",
    "    else \"mps\"\n",
    "    if torch.backends.mps.is_available()\n",
    "    else \"cpu\"\n",
    ")\n",
    "print(f\"Using {device} device\")\n",
    "\n",
    "# define neural network model\n",
    "model = nn.Sequential(\n",
    "    nn.Linear(127, 10),\n",
    "    nn.ReLU(),\n",
    "    nn.Linear(10, 20),\n",
    "    nn.ReLU(),\n",
    "    nn.Linear(20, 1)\n",
    ")\n",
    "\n",
    "# create skorch wrapper for a regressor.\n",
    "netRegressor = NeuralNetRegressor(\n",
    "    module=model,\n",
    "    criterion=nn.MSELoss,\n",
    "    optimizer=optim.Adam,\n",
    "    max_epochs=32,\n",
    "    batch_size=128,\n",
    "    device=device\n",
    ")\n",
    "\n",
    "# Use GridSearchCV to perform hyperparameter tuning\n",
    "param_grid = {\n",
    "    'batch_size': [32, 64, 128],\n",
    "    'criterion': [nn.MSELoss]\n",
    "}\n",
    "\n",
    "# uncomment below to parameter tuning\n",
    "\n",
    "# grid_search = GridSearchCV(estimator=net, param_grid=param_grid, cv=5, scoring='r2', n_jobs=-2)\n",
    "# print(\"Best parameters found:\", grid_search.best_params_)\n",
    "# print(\"Best score:\", grid_search.best_score_)"
   ]
  },
  {
   "cell_type": "code",
   "execution_count": null,
   "id": "0f2ea3b3-a122-40b7-a153-77db4d3246b3",
   "metadata": {},
   "outputs": [],
   "source": [
    "# Save prediction result\n",
    "netRegressor.fit(X_train, y_train)\n",
    "# print(f'model score on testing data: {netRegressor.score(X_test, y_test)}')\n",
    "y_train_out = netRegressor.predict(X_train)\n",
    "y_out = netRegressor.predict(X_test)"
   ]
  },
  {
   "cell_type": "code",
   "execution_count": null,
   "id": "50370771-a264-4183-858f-0a2e14eef88b",
   "metadata": {},
   "outputs": [],
   "source": [
    "print(r2_score(y_test, y_out))"
   ]
  },
  {
   "cell_type": "code",
   "execution_count": null,
   "id": "d6ae083d-2637-4446-95af-96885b83c9da",
   "metadata": {},
   "outputs": [],
   "source": [
    "type(y_test.numpy())\n",
    "y_test.numpy().shape"
   ]
  },
  {
   "cell_type": "code",
   "execution_count": null,
   "id": "8fb39ad7-6e12-432d-8f86-50aa4b5d1c5e",
   "metadata": {},
   "outputs": [],
   "source": [
    "y_out.shape"
   ]
  },
  {
   "cell_type": "code",
   "execution_count": null,
   "id": "cf30d65f-f70b-4538-93a7-b0365ca8cfd7",
   "metadata": {},
   "outputs": [],
   "source": [
    "r = permutation_importance(netRegressor, X_test, y_test,\n",
    "                            n_repeats=30,\n",
    "                            random_state=0)\n",
    "\n",
    "for i in r.importances_mean.argsort()[::-1]:\n",
    "     if r.importances_mean[i] - 2 * r.importances_std[i] > 0:\n",
    "         print(f\"{names[i]:<8}\"\n",
    "               f\"{r.importances_mean[i]:.3f}\"\n",
    "               f\" +/- {r.importances_std[i]:.3f}\")"
   ]
  },
  {
   "cell_type": "code",
   "execution_count": null,
   "id": "b3367cdc-b49b-423c-8522-3c07f43b4af8",
   "metadata": {},
   "outputs": [],
   "source": [
    "pd.DataFrame(X_test).describe()"
   ]
  },
  {
   "cell_type": "code",
   "execution_count": null,
   "id": "97a92fe5-6324-4f13-95c1-b34da5ccb095",
   "metadata": {},
   "outputs": [],
   "source": [
    "pd.DataFrame(y_out).describe()"
   ]
  },
  {
   "cell_type": "code",
   "execution_count": null,
   "id": "ec54ac21-ad7b-4a6d-96a7-ff045fca2903",
   "metadata": {},
   "outputs": [],
   "source": [
    "pd.DataFrame(y_test).describe()"
   ]
  },
  {
   "cell_type": "code",
   "execution_count": null,
   "id": "df4ec4f1-2a3f-44e2-823b-7c688fba5e0a",
   "metadata": {},
   "outputs": [],
   "source": [
    "X_tmp = xscaler.inverse_transform(X_test)\n",
    "pd.DataFrame(X_tmp).describe()"
   ]
  },
  {
   "cell_type": "code",
   "execution_count": null,
   "id": "8a2c9b88-4252-4620-a24a-1616a01ff9e1",
   "metadata": {},
   "outputs": [],
   "source": [
    "dnyp = yscaler.inverse_transform(y_out).flatten()\n",
    "dnyo = yscaler.inverse_transform(y_test).flatten()"
   ]
  },
  {
   "cell_type": "code",
   "execution_count": null,
   "id": "073db13e-6792-415d-ae36-327f0f0f4780",
   "metadata": {},
   "outputs": [],
   "source": [
    "pd.DataFrame(dnyo).describe()"
   ]
  },
  {
   "cell_type": "code",
   "execution_count": null,
   "id": "e502ae33-2a53-4695-b26f-61d4b70382be",
   "metadata": {},
   "outputs": [],
   "source": [
    "pd.DataFrame(dnyp).describe()"
   ]
  },
  {
   "cell_type": "code",
   "execution_count": null,
   "id": "c5dbabc3-0c27-4589-8684-d9a0353dc3f3",
   "metadata": {},
   "outputs": [],
   "source": [
    "# output the results\n",
    "\n",
    "pd.DataFrame(X_tmp).to_csv('inputs.csv', index=False)\n",
    "pd.DataFrame(dnyo).to_csv('original_output.csv', index=False)\n",
    "pd.DataFrame(dnyp).to_csv('predicted_output.csv', index=False)\n"
   ]
  },
  {
   "cell_type": "code",
   "execution_count": null,
   "id": "e19451bc-0e83-4ab2-afc8-438cd9d2af88",
   "metadata": {},
   "outputs": [],
   "source": [
    "pd.DataFrame(dny).describe()"
   ]
  },
  {
   "cell_type": "code",
   "execution_count": null,
   "id": "241b9456-1206-4964-b4d6-66f732870a9e",
   "metadata": {},
   "outputs": [],
   "source": [
    "plt.figure(figsize=(10,10))\n",
    "plt.scatter(y_test.numpy(), y_out, c='crimson')\n",
    "# plt.yscale('log')\n",
    "# plt.xscale('log')\n",
    "\n",
    "# p1 = max(max(dny), max(y_test.numpy()))\n",
    "# p2 = min(min(dny), min(y_test.numpy()))\n",
    "# plt.plot([p1, p2], [p1, p2], 'b-')\n",
    "plt.xlabel('True Values', fontsize=15)\n",
    "plt.ylabel('Predictions', fontsize=15)\n",
    "plt.axis('equal')\n",
    "plt.show()"
   ]
  },
  {
   "cell_type": "code",
   "execution_count": null,
   "id": "eb45dc4d-30cd-4ee8-bec3-fbc3c8ffcc81",
   "metadata": {},
   "outputs": [],
   "source": [
    "# full data run\n",
    "\n",
    "full_df = pd.read_csv(\"den_data.csv\")\n",
    "full_df.replace([np.inf, -np.inf], np.nan, inplace=True)\n",
    "full_df=full_df.dropna()\n",
    "\n",
    "X = full_df[full_df.columns[0:-1]]  #  X will hold all features\n",
    "#y = df['theta5']/np.pi # y will hold target/labels\n",
    "y = np.log10(full_df['density'])\n",
    "scaler = preprocessing.MinMaxScaler()\n",
    "names = X.columns\n",
    "d = scaler.fit_transform(X)\n",
    "X = pd.DataFrame(d, columns=names)\n",
    "\n",
    "X_train, X_test, y_train, y_test = train_test_split(X, y, test_size = 0, random_state = 628)\n",
    "# Convert to 2D PyTorch tensors\n",
    "X_train = torch.tensor(X_train.values, dtype=torch.float32)\n",
    "y_train = torch.tensor(y_train.values, dtype=torch.float32).reshape(-1, 1)\n",
    "X_test = torch.tensor(X_test.values, dtype=torch.float32)\n",
    "y_test = torch.tensor(y_test.values, dtype=torch.float32).reshape(-1, 1)\n",
    "\n",
    "X_train.describe()"
   ]
  }
 ],
 "metadata": {
  "kernelspec": {
   "display_name": "Python 3 (ipykernel)",
   "language": "python",
   "name": "python3"
  },
  "language_info": {
   "codemirror_mode": {
    "name": "ipython",
    "version": 3
   },
   "file_extension": ".py",
   "mimetype": "text/x-python",
   "name": "python",
   "nbconvert_exporter": "python",
   "pygments_lexer": "ipython3",
   "version": "3.11.8"
  }
 },
 "nbformat": 4,
 "nbformat_minor": 5
}
